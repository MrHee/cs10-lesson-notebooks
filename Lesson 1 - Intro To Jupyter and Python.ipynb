{
 "cells": [
  {
   "cell_type": "markdown",
   "id": "dc5b80cb",
   "metadata": {},
   "source": [
    "Welcome to Computer Science 10!\n",
    "\n"
   ]
  },
  {
   "cell_type": "markdown",
   "id": "daed4de3",
   "metadata": {},
   "source": [
    "This is an example of a Jupyter Notebook. They allow us to write text and code in one document, and they are easy to share online. Many of your CS10 lessons will take this form. \n",
    "\n",
    "Remember, you can always find these notebooks from Google Classroom.\n",
    "\n"
   ]
  },
  {
   "cell_type": "markdown",
   "id": "8580ffb7",
   "metadata": {},
   "source": [
    "This is an example of a cell. This one is a markdown (text) cell. The next one is a code cell. Let's try to run some code. What do you think the code below is going to do?\n"
   ]
  },
  {
   "cell_type": "code",
   "execution_count": 2,
   "id": "06af6a3f",
   "metadata": {},
   "outputs": [
    {
     "name": "stdout",
     "output_type": "stream",
     "text": [
      "Hello World!\n"
     ]
    }
   ],
   "source": [
    "print('Hello World!')\n",
    "\n"
   ]
  },
  {
   "cell_type": "markdown",
   "id": "f4d9d5a1",
   "metadata": {},
   "source": [
    "Now select the cell above and click Run. What happened?"
   ]
  }
 ],
 "metadata": {
  "kernelspec": {
   "display_name": "Python 3 (ipykernel)",
   "language": "python",
   "name": "python3"
  },
  "language_info": {
   "codemirror_mode": {
    "name": "ipython",
    "version": 3
   },
   "file_extension": ".py",
   "mimetype": "text/x-python",
   "name": "python",
   "nbconvert_exporter": "python",
   "pygments_lexer": "ipython3",
   "version": "3.10.5"
  }
 },
 "nbformat": 4,
 "nbformat_minor": 5
}
